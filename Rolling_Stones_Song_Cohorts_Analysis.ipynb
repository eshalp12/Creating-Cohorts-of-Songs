{
 "cells": [
  {
   "cell_type": "markdown",
   "id": "6ff01e63",
   "metadata": {},
   "source": [
    "# Creating Cohorts of Songs\n",
    "\n",
    "## Problem Scenario\n",
    "The customer always looks forward to specialized treatment, whether shopping on an e-commerce website or watching Netflix. The customer desires content that aligns with their preferences. To maintain customer engagement, companies must consistently provide the most relevant information.\n",
    "\n",
    "Starting with Spotify, a Swedish audio streaming and media service provider, boasting over 456 million active monthly users (including more than 195 million paid subscribers as of September 2022), the company aims to create cohorts of different songs to enhance song recommendations. These cohorts will be based on various relevant features, ensuring that each group contains similar types of songs.\n",
    "\n",
    "## Problem Objective\n",
    "As a data scientist, you should perform exploratory data analysis and cluster analysis to create cohorts of songs. The goal is to better understand the various factors that create a cohort of songs.\n",
    "\n",
    "## Data Description\n",
    "The dataset comprises information from Spotify's API regarding all albums by the Rolling Stones available on Spotify. It's crucial to highlight that each song possesses a unique ID."
   ]
  },
  {
   "cell_type": "code",
   "execution_count": null,
   "id": "5526b025",
   "metadata": {},
   "outputs": [],
   "source": []
  },
  {
   "cell_type": "code",
   "execution_count": null,
   "id": "bddc9c0d",
   "metadata": {},
   "outputs": [],
   "source": [
    "import pandas as pd\n",
    "\n",
    "# Load dataset\n",
    "df = pd.read_csv(\"rolling_stones_spotify.csv\")\n",
    "df.head()"
   ]
  },
  {
   "cell_type": "code",
   "execution_count": null,
   "id": "9d2743ca",
   "metadata": {},
   "outputs": [],
   "source": [
    "df.info(), df.isnull().sum(), df.duplicated().sum()"
   ]
  },
  {
   "cell_type": "code",
   "execution_count": null,
   "id": "407af3e6",
   "metadata": {},
   "outputs": [],
   "source": [
    "df.describe()"
   ]
  },
  {
   "cell_type": "code",
   "execution_count": null,
   "id": "b8ee7061",
   "metadata": {},
   "outputs": [],
   "source": [
    "import matplotlib.pyplot as plt\n",
    "import seaborn as sns\n",
    "\n",
    "popular_songs = df[df['popularity'] >= 50]\n",
    "top_albums = popular_songs['album'].value_counts().head(10)\n",
    "\n",
    "plt.figure(figsize=(10, 6))\n",
    "sns.barplot(x=top_albums.values, y=top_albums.index, palette=\"Blues_d\")\n",
    "plt.title('Top 10 Albums by Number of Popular Songs (popularity >= 50)')\n",
    "plt.xlabel('Number of Popular Songs')\n",
    "plt.ylabel('Album')\n",
    "plt.tight_layout()\n",
    "plt.show()"
   ]
  },
  {
   "cell_type": "code",
   "execution_count": null,
   "id": "fa859c57",
   "metadata": {},
   "outputs": [],
   "source": [
    "features = df.drop(columns=[\"name\", \"album\", \"release_date\", \"id\", \"uri\"])\n",
    "corr = features.corr()\n",
    "\n",
    "plt.figure(figsize=(12, 8))\n",
    "sns.heatmap(corr, annot=True, cmap=\"coolwarm\", fmt=\".2f\", linewidths=0.5)\n",
    "plt.title(\"Correlation Matrix of Song Features (including Popularity)\")\n",
    "plt.tight_layout()\n",
    "plt.show()"
   ]
  },
  {
   "cell_type": "code",
   "execution_count": null,
   "id": "b834554b",
   "metadata": {},
   "outputs": [],
   "source": [
    "from sklearn.decomposition import PCA\n",
    "from sklearn.preprocessing import StandardScaler\n",
    "\n",
    "X = features.drop(columns=[\"popularity\"])\n",
    "X_scaled = StandardScaler().fit_transform(X)\n",
    "\n",
    "pca = PCA(n_components=2)\n",
    "pca_components = pca.fit_transform(X_scaled)\n",
    "\n",
    "plt.figure(figsize=(8, 6))\n",
    "sns.scatterplot(x=pca_components[:, 0], y=pca_components[:, 1], alpha=0.6)\n",
    "plt.title(\"PCA Projection of Song Features\")\n",
    "plt.xlabel(\"Principal Component 1\")\n",
    "plt.ylabel(\"Principal Component 2\")\n",
    "plt.tight_layout()\n",
    "plt.show()"
   ]
  },
  {
   "cell_type": "code",
   "execution_count": null,
   "id": "78ef2185",
   "metadata": {},
   "outputs": [],
   "source": [
    "from sklearn.cluster import KMeans\n",
    "from sklearn.metrics import silhouette_score\n",
    "\n",
    "scores = []\n",
    "for k in range(2, 11):\n",
    "    kmeans = KMeans(n_clusters=k, random_state=42)\n",
    "    labels = kmeans.fit_predict(X_scaled)\n",
    "    scores.append(silhouette_score(X_scaled, labels))\n",
    "\n",
    "plt.plot(range(2, 11), scores, marker='o')\n",
    "plt.title(\"Silhouette Scores for Various Cluster Counts\")\n",
    "plt.xlabel(\"Number of Clusters\")\n",
    "plt.ylabel(\"Silhouette Score\")\n",
    "plt.grid(True)\n",
    "plt.show()"
   ]
  },
  {
   "cell_type": "code",
   "execution_count": null,
   "id": "9b13fd62",
   "metadata": {},
   "outputs": [],
   "source": [
    "kmeans = KMeans(n_clusters=2, random_state=42)\n",
    "features['cluster'] = kmeans.fit_predict(X_scaled)\n",
    "\n",
    "df_clustered = df.copy()\n",
    "df_clustered['cluster'] = features['cluster']\n",
    "\n",
    "df_clustered.groupby('cluster').mean(numeric_only=True)"
   ]
  }
 ],
 "metadata": {
  "language_info": {
   "name": "python"
  }
 },
 "nbformat": 4,
 "nbformat_minor": 5
}
